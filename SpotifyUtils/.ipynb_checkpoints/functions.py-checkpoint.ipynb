{
 "cells": [
  {
   "cell_type": "code",
   "execution_count": 2,
   "id": "synthetic-twelve",
   "metadata": {},
   "outputs": [],
   "source": [
    "\n",
    "def sum_ab(a,b):\n",
    "    return (a+b)\n",
    "\n",
    "def diff_ab(a,b):\n",
    "    return (a-b)"
   ]
  }
 ],
 "metadata": {
  "kernelspec": {
   "display_name": "Python 3",
   "language": "python",
   "name": "python3"
  },
  "language_info": {
   "codemirror_mode": {
    "name": "ipython",
    "version": 3
   },
   "file_extension": ".py",
   "mimetype": "text/x-python",
   "name": "python",
   "nbconvert_exporter": "python",
   "pygments_lexer": "ipython3",
   "version": "3.7.10"
  }
 },
 "nbformat": 4,
 "nbformat_minor": 5
}
